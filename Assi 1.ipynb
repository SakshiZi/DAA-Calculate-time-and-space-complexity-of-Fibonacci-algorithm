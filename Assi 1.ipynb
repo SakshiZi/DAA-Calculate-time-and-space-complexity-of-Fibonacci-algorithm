{
 "cells": [
  {
   "cell_type": "code",
   "execution_count": 1,
   "metadata": {},
   "outputs": [
    {
     "name": "stdout",
     "output_type": "stream",
     "text": [
      "34\n",
      "\n",
      "Time Complexity: O(2^n) or exponential.\n",
      "\n",
      "Space Complexity: O(n) if we consider the function call stack size, otherwise O(1).\n"
     ]
    }
   ],
   "source": [
    "# Fibonacci series using recursion\n",
    "def fibonacci(n):\n",
    "    if n <= 1:\n",
    "        return n\n",
    "    return fibonacci(n-1) + fibonacci(n-2)\n",
    " \n",
    " \n",
    "if __name__ == \"__main__\":\n",
    "    n = 9\n",
    "    print(fibonacci(n))\n",
    "\n",
    "print(\"\\nTime Complexity: O(2^n) or exponential.\")\n",
    "print(\"\\nSpace Complexity: O(n) if we consider the function call stack size, otherwise O(1).\")"
   ]
  },
  {
   "cell_type": "code",
   "execution_count": 2,
   "metadata": {},
   "outputs": [
    {
     "name": "stdout",
     "output_type": "stream",
     "text": [
      "34\n",
      "\n",
      "Time complexity: O(n) for given n\n",
      "\n",
      "Auxiliary space: O(n)\n"
     ]
    }
   ],
   "source": [
    "# Fibonacci Series using Dynamic Programming\n",
    "def fibonacci(n):\n",
    "     \n",
    "    # Taking 1st two fibonacci numbers as 0 and 1\n",
    "    f = [0, 1]\n",
    "     \n",
    "     \n",
    "    for i in range(2, n+1):\n",
    "        f.append(f[i-1] + f[i-2])\n",
    "    return f[n]\n",
    "     \n",
    "print(fibonacci(9))\n",
    "print(\"\\nTime complexity: O(n) for given n\")\n",
    "print(\"\\nAuxiliary space: O(n)\")"
   ]
  },
  {
   "cell_type": "code",
   "execution_count": null,
   "metadata": {},
   "outputs": [],
   "source": []
  }
 ],
 "metadata": {
  "kernelspec": {
   "display_name": "Python 3",
   "language": "python",
   "name": "python3"
  },
  "language_info": {
   "codemirror_mode": {
    "name": "ipython",
    "version": 3
   },
   "file_extension": ".py",
   "mimetype": "text/x-python",
   "name": "python",
   "nbconvert_exporter": "python",
   "pygments_lexer": "ipython3",
   "version": "3.8.3"
  }
 },
 "nbformat": 4,
 "nbformat_minor": 4
}
